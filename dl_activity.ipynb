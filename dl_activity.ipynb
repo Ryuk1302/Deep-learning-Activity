{
  "cells": [
    {
      "cell_type": "markdown",
      "metadata": {
        "id": "view-in-github",
        "colab_type": "text"
      },
      "source": [
        "<a href=\"https://colab.research.google.com/github/Ryuk1302/Deep-learning-Activity/blob/main/dl_activity.ipynb\" target=\"_parent\"><img src=\"https://colab.research.google.com/assets/colab-badge.svg\" alt=\"Open In Colab\"/></a>"
      ]
    },
    {
      "cell_type": "code",
      "execution_count": null,
      "metadata": {
        "colab": {
          "base_uri": "https://localhost:8080/"
        },
        "id": "f0F86zwxT3mu",
        "outputId": "230865a6-764c-46ff-e195-d23d27296aa5"
      },
      "outputs": [
        {
          "output_type": "stream",
          "name": "stdout",
          "text": [
            "Drive already mounted at /content/drive; to attempt to forcibly remount, call drive.mount(\"/content/drive\", force_remount=True).\n"
          ]
        }
      ],
      "source": [
        "from google.colab import drive\n",
        "drive.mount('/content/drive')\n",
        "\n",
        "import numpy as np\n",
        "import os\n",
        "import matplotlib.pyplot as plt\n",
        "import tensorflow as tf\n",
        "import PIL\n",
        "import pathlib\n",
        "\n",
        "\n",
        "from PIL import Image\n",
        "from pathlib import Path\n",
        "from tensorflow.keras import layers,models"
      ]
    },
    {
      "cell_type": "code",
      "execution_count": null,
      "metadata": {
        "colab": {
          "base_uri": "https://localhost:8080/"
        },
        "id": "3KVe2YByUZOJ",
        "outputId": "0a491a9c-2e95-4072-c6c1-cf2e3073c9cc"
      },
      "outputs": [
        {
          "output_type": "stream",
          "name": "stdout",
          "text": [
            "Total number of dress images found: 2345\n"
          ]
        }
      ],
      "source": [
        "# Update the path to the \"deep learning\" folder in your Google Drive\n",
        "loaded_data = Path(\"/content/drive/My Drive/DL\")\n",
        "\n",
        "\n",
        "# Initialize a counter to keep track of the total number of images\n",
        "total_image_count = 0\n",
        "\n",
        "# Check if there are any subfolders (dress categories)\n",
        "dress_categories = list(loaded_data.glob('*'))\n",
        "if len(dress_categories) > 0:\n",
        "    for dress_category in dress_categories:\n",
        "        dress_images = list(dress_category.glob('*.jpg')) + list(dress_category.glob('*.png'))\n",
        "        if len(dress_images) > 0:\n",
        "            total_image_count += len(dress_images)\n",
        "    print(\"Total number of dress images found:\",total_image_count)\n",
        "else:\n",
        "    print(\"No dress categories (subfolders) found in the directory.\")\n",
        "\n",
        "set_height, set_width = 180, 180\n",
        "batch_size = 32"
      ]
    },
    {
      "cell_type": "code",
      "execution_count": null,
      "metadata": {
        "colab": {
          "base_uri": "https://localhost:8080/"
        },
        "id": "o1zmbJDhU0wt",
        "outputId": "c1a4c07d-a9a2-43ff-cd69-64f157f7091b"
      },
      "outputs": [
        {
          "output_type": "execute_result",
          "data": {
            "text/plain": [
              "PosixPath('/content/drive/My Drive/DL')"
            ]
          },
          "metadata": {},
          "execution_count": 8
        }
      ],
      "source": [
        "loaded_data"
      ]
    },
    {
      "cell_type": "code",
      "execution_count": null,
      "metadata": {
        "id": "liTt5Gz8VyhW"
      },
      "outputs": [],
      "source": [
        "# Hyperparameter tuning setup\n",
        "dropout_rates = [0.0, 0.2, 0.4, 0.6]  # Define a list of dropout rates to try\n",
        "best_model = None\n",
        "best_accuracy = 0.6\n",
        "dropout_rate = [0.4]"
      ]
    },
    {
      "cell_type": "code",
      "execution_count": null,
      "metadata": {
        "colab": {
          "base_uri": "https://localhost:8080/"
        },
        "id": "dX0fa4ddUpQ-",
        "outputId": "7cc92908-b990-439c-d36c-6356e9159ab8"
      },
      "outputs": [
        {
          "output_type": "stream",
          "name": "stdout",
          "text": [
            "Found 2398 files belonging to 2 classes.\n",
            "Using 1799 files for training.\n",
            "Found 2398 files belonging to 2 classes.\n",
            "Using 599 files for validation.\n",
            "['Fruits', 'vegetables']\n"
          ]
        }
      ],
      "source": [
        "training_images = tf.keras.preprocessing.image_dataset_from_directory(\n",
        "    loaded_data,\n",
        "    subset=\"training\",\n",
        "    validation_split = 0.25,\n",
        "    seed=18,\n",
        "    image_size=(set_height, set_width),\n",
        "    batch_size=batch_size\n",
        ")\n",
        "validation_images = tf.keras.preprocessing.image_dataset_from_directory(\n",
        "    loaded_data,\n",
        "    subset=\"validation\",  # Use \"validation\" for the validation subset\n",
        "    validation_split=0.25,  # Adjust this value as needed\n",
        "    seed=18,\n",
        "    image_size=(set_height, set_width),\n",
        "    batch_size=batch_size\n",
        ")\n",
        "food_classes = training_images.class_names\n",
        "print(food_classes)\n",
        "dataset_classes = 2\n",
        "from tensorflow.keras.models import Sequential\n",
        "model=Sequential([])"
      ]
    },
    {
      "cell_type": "code",
      "execution_count": null,
      "metadata": {
        "id": "dYZv2AW6WBRI"
      },
      "outputs": [],
      "source": [
        "def preprocess(img, label):\n",
        "    return tf.image.resize(img, [img_height, img_width]) / 255, label"
      ]
    },
    {
      "cell_type": "code",
      "execution_count": null,
      "metadata": {
        "id": "-oLk2lhvWD8y"
      },
      "outputs": [],
      "source": [
        "import matplotlib.pyplot as plt\n",
        "\n",
        "def create_cnn_model(dropout_rate):\n",
        "    model = Sequential([\n",
        "        layers.experimental.preprocessing.Rescaling(1./255, input_shape=(set_height, set_width, 3)),\n",
        "        layers.Conv2D(16, 3, padding='same', activation='relu'),\n",
        "        layers.MaxPooling2D(),\n",
        "        layers.Conv2D(32, 3, padding='same', activation='relu'),\n",
        "        layers.MaxPooling2D(),\n",
        "        layers.Conv2D(64, 3, padding='same', activation='relu'),\n",
        "        layers.MaxPooling2D(),\n",
        "        layers.Flatten(),\n",
        "        layers.Dense(128, activation='relu'),\n",
        "        layers.Dropout(dropout_rate),  # Add dropout layer with the specified rate\n",
        "        layers.Dense(dataset_classes, activation='softmax')\n",
        "    ])\n",
        "\n",
        "    model.compile(optimizer='adam',\n",
        "                  loss=tf.keras.losses.SparseCategoricalCrossentropy(from_logits=True),\n",
        "                  metrics=['accuracy'])\n",
        "\n",
        "    return model\n"
      ]
    },
    {
      "cell_type": "code",
      "execution_count": null,
      "metadata": {
        "colab": {
          "base_uri": "https://localhost:8080/"
        },
        "id": "FyvzqEz5WFyk",
        "outputId": "5e4a4968-75e5-4c35-fdcd-f7f083ba6e59"
      },
      "outputs": [
        {
          "output_type": "stream",
          "name": "stdout",
          "text": [
            "Training model with dropout rate: 0.0\n",
            "Epoch 1/10\n"
          ]
        },
        {
          "output_type": "stream",
          "name": "stderr",
          "text": [
            "/usr/local/lib/python3.10/dist-packages/keras/src/backend.py:5714: UserWarning: \"`sparse_categorical_crossentropy` received `from_logits=True`, but the `output` argument was produced by a Softmax activation and thus does not represent logits. Was this intended?\n",
            "  output, from_logits = _get_logits(\n"
          ]
        },
        {
          "output_type": "stream",
          "name": "stdout",
          "text": [
            "57/57 [==============================] - 492s 7s/step - loss: 0.6212 - accuracy: 0.6676 - val_loss: 0.4098 - val_accuracy: 0.8347\n",
            "Epoch 2/10\n",
            "57/57 [==============================] - 105s 2s/step - loss: 0.3252 - accuracy: 0.8638 - val_loss: 0.3838 - val_accuracy: 0.8314\n",
            "Epoch 3/10\n",
            "57/57 [==============================] - 103s 2s/step - loss: 0.2365 - accuracy: 0.9072 - val_loss: 0.2324 - val_accuracy: 0.8948\n",
            "Epoch 4/10\n",
            "57/57 [==============================] - 103s 2s/step - loss: 0.1508 - accuracy: 0.9439 - val_loss: 0.3633 - val_accuracy: 0.8698\n",
            "Epoch 5/10\n",
            "57/57 [==============================] - 112s 2s/step - loss: 0.1170 - accuracy: 0.9550 - val_loss: 0.3872 - val_accuracy: 0.8698\n",
            "Epoch 6/10\n",
            "57/57 [==============================] - 97s 2s/step - loss: 0.0992 - accuracy: 0.9655 - val_loss: 0.2204 - val_accuracy: 0.9332\n",
            "Epoch 7/10\n",
            "57/57 [==============================] - 104s 2s/step - loss: 0.0553 - accuracy: 0.9805 - val_loss: 0.2218 - val_accuracy: 0.9349\n",
            "Epoch 8/10\n",
            "57/57 [==============================] - 105s 2s/step - loss: 0.0434 - accuracy: 0.9861 - val_loss: 0.2489 - val_accuracy: 0.9282\n",
            "Epoch 9/10\n",
            "57/57 [==============================] - 103s 2s/step - loss: 0.0512 - accuracy: 0.9850 - val_loss: 0.2170 - val_accuracy: 0.9399\n",
            "Epoch 10/10\n",
            "57/57 [==============================] - 105s 2s/step - loss: 0.0339 - accuracy: 0.9928 - val_loss: 0.2219 - val_accuracy: 0.9366\n",
            "Training model with dropout rate: 0.2\n",
            "Epoch 1/10\n",
            " 4/57 [=>............................] - ETA: 1:39 - loss: 1.7328 - accuracy: 0.5000"
          ]
        }
      ],
      "source": [
        "#Define a list of dropout rates to try\n",
        "dropout_rates = [0.0, 0.2, 0.4]\n",
        "epochs=10\n",
        "# Store training history for each model\n",
        "training_histories = []\n",
        "\n",
        "# Train models with different dropout rates\n",
        "for dropout_rate in dropout_rates:\n",
        "    print(f\"Training model with dropout rate: {dropout_rate}\")\n",
        "    model = create_cnn_model(dropout_rate)\n",
        "    history = model.fit(\n",
        "        training_images,\n",
        "        validation_data=validation_images,\n",
        "        epochs=epochs\n",
        "    )\n",
        "    training_histories.append((dropout_rate,history))"
      ]
    },
    {
      "cell_type": "code",
      "execution_count": null,
      "metadata": {
        "id": "P3vk1iQVkVUh"
      },
      "outputs": [],
      "source": [
        "# Visualize the training history for different dropout rates\n",
        "plt.figure(figsize=(12, 8))\n",
        "for dropout_rate, history in training_histories:\n",
        "    plt.plot(history.history['val_accuracy'], label=f'Dropout Rate: {dropout_rate}')\n",
        "plt.title('Validation Accuracy vs. Epochs for Different Dropout Rates')\n",
        "plt.xlabel('Epochs')\n",
        "plt.ylabel('Validation Accuracy')\n",
        "plt.legend()\n",
        "plt.grid(True)\n",
        "plt.show()"
      ]
    },
    {
      "cell_type": "code",
      "execution_count": null,
      "metadata": {
        "id": "xV44GxS1lzte"
      },
      "outputs": [],
      "source": [
        "op_model = create_cnn_model(0.0)\n",
        "epochs=10\n",
        "\n",
        "CNN_model2 = op_model.fit(\n",
        "  training_images,\n",
        "  validation_data=validation_images,\n",
        "  epochs=epochs\n",
        ")"
      ]
    },
    {
      "cell_type": "code",
      "execution_count": null,
      "metadata": {
        "id": "dlZhFZ65n4cN"
      },
      "outputs": [],
      "source": [
        "def predict_input_image(img):\n",
        "  img_4d=img.reshape(-1,180,180,3)\n",
        "  prediction=model.predict(img_4d)[0]\n",
        "  print(model.predict(img_4d)[0])\n",
        "  return {food_classes[i]: float(prediction[i]) for i in range(2)}"
      ]
    },
    {
      "cell_type": "code",
      "execution_count": null,
      "metadata": {
        "id": "k_LOmgEun6rM"
      },
      "outputs": [],
      "source": [
        "# Evaluate the model on validation data\n",
        "val_accuracy=CNN_model2.history['val_accuracy'][-1]\n",
        "print(f\"Validation accuracy with dropout rate {dropout_rate}: {val_accuracy}\")\n",
        "\n",
        "# Check if this model is the best so far\n",
        "if val_accuracy > best_accuracy:\n",
        "   best_accuracy = val_accuracy\n",
        "   best_model = model"
      ]
    },
    {
      "cell_type": "code",
      "execution_count": null,
      "metadata": {
        "id": "SjVjw1R2l0OB"
      },
      "outputs": [],
      "source": [
        "pip install gradio"
      ]
    },
    {
      "cell_type": "code",
      "execution_count": null,
      "metadata": {
        "id": "PIg0m9dll0vv"
      },
      "outputs": [],
      "source": [
        "# Save the best model to a file\n",
        "model.save('/content/drive/My Drive/DL/best_model.h5')"
      ]
    },
    {
      "cell_type": "code",
      "execution_count": null,
      "metadata": {
        "id": "IA1Fmu4Sl1Oo"
      },
      "outputs": [],
      "source": [
        "import gradio as gr"
      ]
    },
    {
      "cell_type": "code",
      "execution_count": null,
      "metadata": {
        "id": "dEYbUw1MrYNh"
      },
      "outputs": [],
      "source": [
        "image = gr.inputs.Image(shape=(180,180))\n",
        "\n",
        "label = gr.outputs.Label(num_top_classes=5)\n",
        "\n",
        "gr.Interface(fn=predict_input_image, inputs=image, outputs=label,interpretation='default').launch(debug='True',share=True)"
      ]
    },
    {
      "cell_type": "code",
      "execution_count": null,
      "metadata": {
        "id": "ppddKUworcdR"
      },
      "outputs": [],
      "source": []
    }
  ],
  "metadata": {
    "colab": {
      "provenance": [],
      "authorship_tag": "ABX9TyMBsTpoWstc+ovRtiidvu9h",
      "include_colab_link": true
    },
    "kernelspec": {
      "display_name": "Python 3",
      "name": "python3"
    },
    "language_info": {
      "name": "python"
    }
  },
  "nbformat": 4,
  "nbformat_minor": 0
}