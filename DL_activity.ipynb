{
  "cells": [
    {
      "cell_type": "markdown",
      "metadata": {
        "id": "view-in-github",
        "colab_type": "text"
      },
      "source": [
        "<a href=\"https://colab.research.google.com/github/Ryuk1302/Deep-learning-Activity/blob/main/DL_activity.ipynb\" target=\"_parent\"><img src=\"https://colab.research.google.com/assets/colab-badge.svg\" alt=\"Open In Colab\"/></a>"
      ]
    },
    {
      "cell_type": "code",
      "execution_count": 6,
      "metadata": {
        "colab": {
          "base_uri": "https://localhost:8080/"
        },
        "id": "f0F86zwxT3mu",
        "outputId": "230865a6-764c-46ff-e195-d23d27296aa5"
      },
      "outputs": [
        {
          "output_type": "stream",
          "name": "stdout",
          "text": [
            "Drive already mounted at /content/drive; to attempt to forcibly remount, call drive.mount(\"/content/drive\", force_remount=True).\n"
          ]
        }
      ],
      "source": [
        "from google.colab import drive\n",
        "drive.mount('/content/drive')\n",
        "\n",
        "import numpy as np\n",
        "import os\n",
        "import matplotlib.pyplot as plt\n",
        "import tensorflow as tf\n",
        "import PIL\n",
        "import pathlib\n",
        "\n",
        "\n",
        "from PIL import Image\n",
        "from pathlib import Path\n",
        "from tensorflow.keras import layers,models"
      ]
    },
    {
      "cell_type": "code",
      "execution_count": 7,
      "metadata": {
        "colab": {
          "base_uri": "https://localhost:8080/"
        },
        "id": "3KVe2YByUZOJ",
        "outputId": "0a491a9c-2e95-4072-c6c1-cf2e3073c9cc"
      },
      "outputs": [
        {
          "output_type": "stream",
          "name": "stdout",
          "text": [
            "Total number of dress images found: 2345\n"
          ]
        }
      ],
      "source": [
        "# Update the path to the \"deep learning\" folder in your Google Drive\n",
        "loaded_data = Path(\"/content/drive/My Drive/DL\")\n",
        "\n",
        "\n",
        "# Initialize a counter to keep track of the total number of images\n",
        "total_image_count = 0\n",
        "\n",
        "# Check if there are any subfolders (dress categories)\n",
        "dress_categories = list(loaded_data.glob('*'))\n",
        "if len(dress_categories) > 0:\n",
        "    for dress_category in dress_categories:\n",
        "        dress_images = list(dress_category.glob('*.jpg')) + list(dress_category.glob('*.png'))\n",
        "        if len(dress_images) > 0:\n",
        "            total_image_count += len(dress_images)\n",
        "    print(\"Total number of dress images found:\",total_image_count)\n",
        "else:\n",
        "    print(\"No dress categories (subfolders) found in the directory.\")\n",
        "\n",
        "set_height, set_width = 180, 180\n",
        "batch_size = 32"
      ]
    },
    {
      "cell_type": "code",
      "execution_count": 8,
      "metadata": {
        "colab": {
          "base_uri": "https://localhost:8080/"
        },
        "id": "o1zmbJDhU0wt",
        "outputId": "c1a4c07d-a9a2-43ff-cd69-64f157f7091b"
      },
      "outputs": [
        {
          "output_type": "execute_result",
          "data": {
            "text/plain": [
              "PosixPath('/content/drive/My Drive/DL')"
            ]
          },
          "metadata": {},
          "execution_count": 8
        }
      ],
      "source": [
        "loaded_data"
      ]
    },
    {
      "cell_type": "code",
      "execution_count": 9,
      "metadata": {
        "id": "liTt5Gz8VyhW"
      },
      "outputs": [],
      "source": [
        "# Hyperparameter tuning setup\n",
        "dropout_rates = [0.0, 0.2, 0.4, 0.6]  # Define a list of dropout rates to try\n",
        "best_model = None\n",
        "best_accuracy = 0.6\n",
        "dropout_rate = [0.4]"
      ]
    },
    {
      "cell_type": "code",
      "execution_count": 10,
      "metadata": {
        "colab": {
          "base_uri": "https://localhost:8080/"
        },
        "id": "dX0fa4ddUpQ-",
        "outputId": "7cc92908-b990-439c-d36c-6356e9159ab8"
      },
      "outputs": [
        {
          "output_type": "stream",
          "name": "stdout",
          "text": [
            "Found 2398 files belonging to 2 classes.\n",
            "Using 1799 files for training.\n",
            "Found 2398 files belonging to 2 classes.\n",
            "Using 599 files for validation.\n",
            "['Fruits', 'vegetables']\n"
          ]
        }
      ],
      "source": [
        "training_images = tf.keras.preprocessing.image_dataset_from_directory(\n",
        "    loaded_data,\n",
        "    subset=\"training\",\n",
        "    validation_split = 0.25,\n",
        "    seed=18,\n",
        "    image_size=(set_height, set_width),\n",
        "    batch_size=batch_size\n",
        ")\n",
        "validation_images = tf.keras.preprocessing.image_dataset_from_directory(\n",
        "    loaded_data,\n",
        "    subset=\"validation\",  # Use \"validation\" for the validation subset\n",
        "    validation_split=0.25,  # Adjust this value as needed\n",
        "    seed=18,\n",
        "    image_size=(set_height, set_width),\n",
        "    batch_size=batch_size\n",
        ")\n",
        "food_classes = training_images.class_names\n",
        "print(food_classes)\n",
        "dataset_classes = 2\n",
        "from tensorflow.keras.models import Sequential\n",
        "model=Sequential([])"
      ]
    },
    {
      "cell_type": "code",
      "execution_count": 11,
      "metadata": {
        "id": "dYZv2AW6WBRI"
      },
      "outputs": [],
      "source": [
        "def preprocess(img, label):\n",
        "    return tf.image.resize(img, [img_height, img_width]) / 255, label"
      ]
    },
    {
      "cell_type": "code",
      "execution_count": 12,
      "metadata": {
        "id": "-oLk2lhvWD8y"
      },
      "outputs": [],
      "source": [
        "import matplotlib.pyplot as plt\n",
        "\n",
        "def create_cnn_model(dropout_rate):\n",
        "    model = Sequential([\n",
        "        layers.experimental.preprocessing.Rescaling(1./255, input_shape=(set_height, set_width, 3)),\n",
        "        layers.Conv2D(16, 3, padding='same', activation='relu'),\n",
        "        layers.MaxPooling2D(),\n",
        "        layers.Conv2D(32, 3, padding='same', activation='relu'),\n",
        "        layers.MaxPooling2D(),\n",
        "        layers.Conv2D(64, 3, padding='same', activation='relu'),\n",
        "        layers.MaxPooling2D(),\n",
        "        layers.Flatten(),\n",
        "        layers.Dense(128, activation='relu'),\n",
        "        layers.Dropout(dropout_rate),  # Add dropout layer with the specified rate\n",
        "        layers.Dense(dataset_classes, activation='softmax')\n",
        "    ])\n",
        "\n",
        "    model.compile(optimizer='adam',\n",
        "                  loss=tf.keras.losses.SparseCategoricalCrossentropy(from_logits=True),\n",
        "                  metrics=['accuracy'])\n",
        "\n",
        "    return model\n"
      ]
    },
    {
      "cell_type": "code",
      "execution_count": 13,
      "metadata": {
        "colab": {
          "base_uri": "https://localhost:8080/"
        },
        "id": "FyvzqEz5WFyk",
        "outputId": "5e4a4968-75e5-4c35-fdcd-f7f083ba6e59"
      },
      "outputs": [
        {
          "output_type": "stream",
          "name": "stdout",
          "text": [
            "Training model with dropout rate: 0.0\n",
            "Epoch 1/10\n"
          ]
        },
        {
          "output_type": "stream",
          "name": "stderr",
          "text": [
            "/usr/local/lib/python3.10/dist-packages/keras/src/backend.py:5714: UserWarning: \"`sparse_categorical_crossentropy` received `from_logits=True`, but the `output` argument was produced by a Softmax activation and thus does not represent logits. Was this intended?\n",
            "  output, from_logits = _get_logits(\n"
          ]
        },
        {
          "output_type": "stream",
          "name": "stdout",
          "text": [
            "57/57 [==============================] - 492s 7s/step - loss: 0.6212 - accuracy: 0.6676 - val_loss: 0.4098 - val_accuracy: 0.8347\n",
            "Epoch 2/10\n",
            "57/57 [==============================] - 105s 2s/step - loss: 0.3252 - accuracy: 0.8638 - val_loss: 0.3838 - val_accuracy: 0.8314\n",
            "Epoch 3/10\n",
            "57/57 [==============================] - 103s 2s/step - loss: 0.2365 - accuracy: 0.9072 - val_loss: 0.2324 - val_accuracy: 0.8948\n",
            "Epoch 4/10\n",
            "57/57 [==============================] - 103s 2s/step - loss: 0.1508 - accuracy: 0.9439 - val_loss: 0.3633 - val_accuracy: 0.8698\n",
            "Epoch 5/10\n",
            "57/57 [==============================] - 112s 2s/step - loss: 0.1170 - accuracy: 0.9550 - val_loss: 0.3872 - val_accuracy: 0.8698\n",
            "Epoch 6/10\n",
            "57/57 [==============================] - 97s 2s/step - loss: 0.0992 - accuracy: 0.9655 - val_loss: 0.2204 - val_accuracy: 0.9332\n",
            "Epoch 7/10\n",
            "57/57 [==============================] - 104s 2s/step - loss: 0.0553 - accuracy: 0.9805 - val_loss: 0.2218 - val_accuracy: 0.9349\n",
            "Epoch 8/10\n",
            "57/57 [==============================] - 105s 2s/step - loss: 0.0434 - accuracy: 0.9861 - val_loss: 0.2489 - val_accuracy: 0.9282\n",
            "Epoch 9/10\n",
            "57/57 [==============================] - 103s 2s/step - loss: 0.0512 - accuracy: 0.9850 - val_loss: 0.2170 - val_accuracy: 0.9399\n",
            "Epoch 10/10\n",
            "57/57 [==============================] - 105s 2s/step - loss: 0.0339 - accuracy: 0.9928 - val_loss: 0.2219 - val_accuracy: 0.9366\n",
            "Training model with dropout rate: 0.2\n",
            "Epoch 1/10\n",
            "57/57 [==============================] - 102s 2s/step - loss: 0.6402 - accuracy: 0.6982 - val_loss: 0.4258 - val_accuracy: 0.7880\n",
            "Epoch 2/10\n",
            "57/57 [==============================] - 101s 2s/step - loss: 0.3713 - accuracy: 0.8421 - val_loss: 0.4907 - val_accuracy: 0.7813\n",
            "Epoch 3/10\n",
            "57/57 [==============================] - 103s 2s/step - loss: 0.3006 - accuracy: 0.8733 - val_loss: 0.4439 - val_accuracy: 0.7930\n",
            "Epoch 4/10\n",
            "57/57 [==============================] - 94s 2s/step - loss: 0.2437 - accuracy: 0.9055 - val_loss: 0.2646 - val_accuracy: 0.8965\n",
            "Epoch 5/10\n",
            "57/57 [==============================] - 102s 2s/step - loss: 0.1933 - accuracy: 0.9222 - val_loss: 0.2525 - val_accuracy: 0.9115\n",
            "Epoch 6/10\n",
            "57/57 [==============================] - 100s 2s/step - loss: 0.1190 - accuracy: 0.9566 - val_loss: 0.3787 - val_accuracy: 0.8598\n",
            "Epoch 7/10\n",
            "57/57 [==============================] - 100s 2s/step - loss: 0.1061 - accuracy: 0.9589 - val_loss: 0.2446 - val_accuracy: 0.9182\n",
            "Epoch 8/10\n",
            "57/57 [==============================] - 94s 2s/step - loss: 0.0550 - accuracy: 0.9833 - val_loss: 0.2977 - val_accuracy: 0.9149\n",
            "Epoch 9/10\n",
            "57/57 [==============================] - 101s 2s/step - loss: 0.0366 - accuracy: 0.9911 - val_loss: 0.3397 - val_accuracy: 0.8998\n",
            "Epoch 10/10\n",
            "57/57 [==============================] - 101s 2s/step - loss: 0.0348 - accuracy: 0.9906 - val_loss: 0.2297 - val_accuracy: 0.9132\n",
            "Training model with dropout rate: 0.4\n",
            "Epoch 1/10\n",
            "57/57 [==============================] - 107s 2s/step - loss: 0.6274 - accuracy: 0.6982 - val_loss: 0.4294 - val_accuracy: 0.8147\n",
            "Epoch 2/10\n",
            "57/57 [==============================] - 101s 2s/step - loss: 0.3726 - accuracy: 0.8344 - val_loss: 0.3388 - val_accuracy: 0.8414\n",
            "Epoch 3/10\n",
            "57/57 [==============================] - 101s 2s/step - loss: 0.2686 - accuracy: 0.8872 - val_loss: 0.2798 - val_accuracy: 0.8715\n",
            "Epoch 4/10\n",
            "57/57 [==============================] - 101s 2s/step - loss: 0.2347 - accuracy: 0.8999 - val_loss: 0.2496 - val_accuracy: 0.9065\n",
            "Epoch 5/10\n",
            "57/57 [==============================] - 101s 2s/step - loss: 0.2044 - accuracy: 0.9227 - val_loss: 0.2483 - val_accuracy: 0.9048\n",
            "Epoch 6/10\n",
            "57/57 [==============================] - 99s 2s/step - loss: 0.1502 - accuracy: 0.9372 - val_loss: 0.2943 - val_accuracy: 0.8514\n",
            "Epoch 7/10\n",
            "57/57 [==============================] - 101s 2s/step - loss: 0.1506 - accuracy: 0.9400 - val_loss: 0.2144 - val_accuracy: 0.9149\n",
            "Epoch 8/10\n",
            "57/57 [==============================] - 102s 2s/step - loss: 0.1327 - accuracy: 0.9528 - val_loss: 0.2136 - val_accuracy: 0.9098\n",
            "Epoch 9/10\n",
            "57/57 [==============================] - 101s 2s/step - loss: 0.0834 - accuracy: 0.9661 - val_loss: 0.2414 - val_accuracy: 0.9249\n",
            "Epoch 10/10\n",
            "57/57 [==============================] - 101s 2s/step - loss: 0.0858 - accuracy: 0.9694 - val_loss: 0.2781 - val_accuracy: 0.9132\n"
          ]
        }
      ],
      "source": [
        "#Define a list of dropout rates to try\n",
        "dropout_rates = [0.0, 0.2, 0.4]\n",
        "epochs=10\n",
        "# Store training history for each model\n",
        "training_histories = []\n",
        "\n",
        "# Train models with different dropout rates\n",
        "for dropout_rate in dropout_rates:\n",
        "    print(f\"Training model with dropout rate: {dropout_rate}\")\n",
        "    model = create_cnn_model(dropout_rate)\n",
        "    history = model.fit(\n",
        "        training_images,\n",
        "        validation_data=validation_images,\n",
        "        epochs=epochs\n",
        "    )\n",
        "    training_histories.append((dropout_rate,history))"
      ]
    },
    {
      "cell_type": "code",
      "execution_count": 14,
      "metadata": {
        "colab": {
          "base_uri": "https://localhost:8080/",
          "height": 718
        },
        "id": "P3vk1iQVkVUh",
        "outputId": "692e52cd-9b6b-421f-86de-6da7836f23d2"
      },
      "outputs": [
        {
          "output_type": "display_data",
          "data": {
            "text/plain": [
              "<Figure size 1200x800 with 1 Axes>"
            ],
            "image/png": "[encoded data removed]"
          },
          "metadata": {}
        }
      ],
      "source": [
        "# Visualize the training history for different dropout rates\n",
        "plt.figure(figsize=(12, 8))\n",
        "for dropout_rate, history in training_histories:\n",
        "    plt.plot(history.history['val_accuracy'], label=f'Dropout Rate: {dropout_rate}')\n",
        "plt.title('Validation Accuracy vs. Epochs for Different Dropout Rates')\n",
        "plt.xlabel('Epochs')\n",
        "plt.ylabel('Validation Accuracy')\n",
        "plt.legend()\n",
        "plt.grid(True)\n",
        "plt.show()"
      ]
    },
    {
      "cell_type": "code",
      "execution_count": 15,
      "metadata": {
        "colab": {
          "base_uri": "https://localhost:8080/"
        },
        "id": "xV44GxS1lzte",
        "outputId": "de80c6b6-4a32-4727-a360-c9660a5c5f16"
      },
      "outputs": [
        {
          "metadata": {
            "tags": null
          },
          "name": "stdout",
          "output_type": "stream",
          "text": [
            "Epoch 1/10\n",
            "57/57 [==============================] - 95s 2s/step - loss: 0.5413 - accuracy: 0.7137 - val_loss: 0.3467 - val_accuracy: 0.8598\n",
            "Epoch 2/10\n",
            "57/57 [==============================] - 102s 2s/step - loss: 0.2817 - accuracy: 0.8844 - val_loss: 0.2813 - val_accuracy: 0.8915\n",
            "Epoch 3/10\n",
            "57/57 [==============================] - 101s 2s/step - loss: 0.2034 - accuracy: 0.9288 - val_loss: 0.2330 - val_accuracy: 0.9215\n",
            "Epoch 4/10\n",
            "57/57 [==============================] - 101s 2s/step - loss: 0.1247 - accuracy: 0.9600 - val_loss: 0.2034 - val_accuracy: 0.9366\n",
            "Epoch 5/10\n",
            "57/57 [==============================] - 101s 2s/step - loss: 0.1048 - accuracy: 0.9622 - val_loss: 0.2534 - val_accuracy: 0.9199\n",
            "Epoch 6/10\n",
            "57/57 [==============================] - 97s 2s/step - loss: 0.0683 - accuracy: 0.9800 - val_loss: 0.2448 - val_accuracy: 0.9316\n",
            "Epoch 7/10\n",
            "57/57 [==============================] - 95s 2s/step - loss: 0.0517 - accuracy: 0.9822 - val_loss: 0.2732 - val_accuracy: 0.9399\n",
            "Epoch 8/10\n",
            "57/57 [==============================] - 101s 2s/step - loss: 0.0663 - accuracy: 0.9794 - val_loss: 0.2233 - val_accuracy: 0.9366\n",
            "Epoch 9/10\n",
            "57/57 [==============================] - 102s 2s/step - loss: 0.0266 - accuracy: 0.9944 - val_loss: 0.2567 - val_accuracy: 0.9232\n",
            "Epoch 10/10\n",
            "57/57 [==============================] - 98s 2s/step - loss: 0.0153 - accuracy: 0.9972 - val_loss: 0.2899 - val_accuracy: 0.9299\n"
          ]
        }
      ],
      "source": [
        "op_model = create_cnn_model(0.0)\n",
        "epochs=10\n",
        "\n",
        "CNN_model2 = op_model.fit(\n",
        "  training_images,\n",
        "  validation_data=validation_images,\n",
        "  epochs=epochs\n",
        ")"
      ]
    },
    {
      "cell_type": "code",
      "execution_count": 16,
      "metadata": {
        "id": "dlZhFZ65n4cN"
      },
      "outputs": [],
      "source": [
        "def predict_input_image(img):\n",
        "  img_4d=img.reshape(-1,180,180,3)\n",
        "  prediction=model.predict(img_4d)[0]\n",
        "  print(model.predict(img_4d)[0])\n",
        "  return {food_classes[i]: float(prediction[i]) for i in range(2)}"
      ]
    },
    {
      "cell_type": "code",
      "execution_count": 17,
      "metadata": {
        "colab": {
          "base_uri": "https://localhost:8080/"
        },
        "id": "k_LOmgEun6rM",
        "outputId": "08610961-7743-4d46-d6f0-767b1c5b6d38"
      },
      "outputs": [
        {
          "metadata": {
            "tags": null
          },
          "name": "stdout",
          "output_type": "stream",
          "text": [
            "Validation accuracy with dropout rate 0.4: 0.9298831224441528\n"
          ]
        }
      ],
      "source": [
        "# Evaluate the model on validation data\n",
        "val_accuracy=CNN_model2.history['val_accuracy'][-1]\n",
        "print(f\"Validation accuracy with dropout rate {dropout_rate}: {val_accuracy}\")\n",
        "\n",
        "# Check if this model is the best so far\n",
        "if val_accuracy > best_accuracy:\n",
        "   best_accuracy = val_accuracy\n",
        "   best_model = model"
      ]
    },
    {
      "cell_type": "code",
      "execution_count": 18,
      "metadata": {
        "colab": {
          "base_uri": "https://localhost:8080/"
        },
        "id": "SjVjw1R2l0OB",
        "outputId": "256140a2-3809-411a-a2a2-e4768aa97289"
      },
      "outputs": [
        {
          "output_type": "stream",
          "name": "stdout",
          "text": [
            "Collecting gradio\n",
            "  Downloading gradio-3.44.4-py3-none-any.whl (20.2 MB)\n",
            "\u001b[2K     \u001b[90m━━━━━━━━━━━━━━━━━━━━━━━━━━━━━━━━━━━━━━━━\u001b[0m \u001b[32m20.2/20.2 MB\u001b[0m \u001b[31m63.7 MB/s\u001b[0m eta \u001b[36m0:00:00\u001b[0m\n",
            "\u001b[?25hCollecting aiofiles<24.0,>=22.0 (from gradio)\n",
            "  Downloading aiofiles-23.2.1-py3-none-any.whl (15 kB)\n",
            "Requirement already satisfied: altair<6.0,>=4.2.0 in /usr/local/lib/python3.10/dist-packages (from gradio) (4.2.2)\n",
            "Collecting fastapi (from gradio)\n",
            "  Downloading fastapi-0.103.1-py3-none-any.whl (66 kB)\n",
            "\u001b[2K     \u001b[90m━━━━━━━━━━━━━━━━━━━━━━━━━━━━━━━━━━━━━━━━\u001b[0m \u001b[32m66.2/66.2 kB\u001b[0m \u001b[31m7.0 MB/s\u001b[0m eta \u001b[36m0:00:00\u001b[0m\n",
            "\u001b[?25hCollecting ffmpy (from gradio)\n",
            "  Downloading ffmpy-0.3.1.tar.gz (5.5 kB)\n",
            "  Preparing metadata (setup.py) ... \u001b[?25l\u001b[?25hdone\n",
            "Collecting gradio-client==0.5.1 (from gradio)\n",
            "  Downloading gradio_client-0.5.1-py3-none-any.whl (298 kB)\n",
            "\u001b[2K     \u001b[90m━━━━━━━━━━━━━━━━━━━━━━━━━━━━━━━━━━━━━━\u001b[0m \u001b[32m298.2/298.2 kB\u001b[0m \u001b[31m24.5 MB/s\u001b[0m eta \u001b[36m0:00:00\u001b[0m\n",
            "\u001b[?25hCollecting httpx (from gradio)\n",
            "  Downloading httpx-0.25.0-py3-none-any.whl (75 kB)\n",
            "\u001b[2K     \u001b[90m━━━━━━━━━━━━━━━━━━━━━━━━━━━━━━━━━━━━━━━━\u001b[0m \u001b[32m75.7/75.7 kB\u001b[0m \u001b[31m7.8 MB/s\u001b[0m eta \u001b[36m0:00:00\u001b[0m\n",
            "\u001b[?25hCollecting huggingface-hub>=0.14.0 (from gradio)\n",
            "  Downloading huggingface_hub-0.17.2-py3-none-any.whl (294 kB)\n",
            "\u001b[2K     \u001b[90m━━━━━━━━━━━━━━━━━━━━━━━━━━━━━━━━━━━━━━\u001b[0m \u001b[32m294.9/294.9 kB\u001b[0m \u001b[31m26.6 MB/s\u001b[0m eta \u001b[36m0:00:00\u001b[0m\n",
            "\u001b[?25hRequirement already satisfied: importlib-resources<7.0,>=1.3 in /usr/local/lib/python3.10/dist-packages (from gradio) (6.0.1)\n",
            "Requirement already satisfied: jinja2<4.0 in /usr/local/lib/python3.10/dist-packages (from gradio) (3.1.2)\n",
            "Requirement already satisfied: markupsafe~=2.0 in /usr/local/lib/python3.10/dist-packages (from gradio) (2.1.3)\n",
            "Requirement already satisfied: matplotlib~=3.0 in /usr/local/lib/python3.10/dist-packages (from gradio) (3.7.1)\n",
            "Requirement already satisfied: numpy~=1.0 in /usr/local/lib/python3.10/dist-packages (from gradio) (1.23.5)\n",
            "Collecting orjson~=3.0 (from gradio)\n",
            "  Downloading orjson-3.9.7-cp310-cp310-manylinux_2_17_x86_64.manylinux2014_x86_64.whl (138 kB)\n",
            "\u001b[2K     \u001b[90m━━━━━━━━━━━━━━━━━━━━━━━━━━━━━━━━━━━━━━\u001b[0m \u001b[32m138.7/138.7 kB\u001b[0m \u001b[31m13.8 MB/s\u001b[0m eta \u001b[36m0:00:00\u001b[0m\n",
            "\u001b[?25hRequirement already satisfied: packaging in /usr/local/lib/python3.10/dist-packages (from gradio) (23.1)\n",
            "Requirement already satisfied: pandas<3.0,>=1.0 in /usr/local/lib/python3.10/dist-packages (from gradio) (1.5.3)\n",
            "Requirement already satisfied: pillow<11.0,>=8.0 in /usr/local/lib/python3.10/dist-packages (from gradio) (9.4.0)\n",
            "Requirement already satisfied: pydantic!=1.8,!=1.8.1,!=2.0.0,!=2.0.1,<3.0.0,>=1.7.4 in /usr/local/lib/python3.10/dist-packages (from gradio) (1.10.12)\n",
            "Collecting pydub (from gradio)\n",
            "  Downloading pydub-0.25.1-py2.py3-none-any.whl (32 kB)\n",
            "Collecting python-multipart (from gradio)\n",
            "  Downloading python_multipart-0.0.6-py3-none-any.whl (45 kB)\n",
            "\u001b[2K     \u001b[90m━━━━━━━━━━━━━━━━━━━━━━━━━━━━━━━━━━━━━━━━\u001b[0m \u001b[32m45.7/45.7 kB\u001b[0m \u001b[31m4.6 MB/s\u001b[0m eta \u001b[36m0:00:00\u001b[0m\n",
            "\u001b[?25hRequirement already satisfied: pyyaml<7.0,>=5.0 in /usr/local/lib/python3.10/dist-packages (from gradio) (6.0.1)\n",
            "Requirement already satisfied: requests~=2.0 in /usr/local/lib/python3.10/dist-packages (from gradio) (2.31.0)\n",
            "Collecting semantic-version~=2.0 (from gradio)\n",
            "  Downloading semantic_version-2.10.0-py2.py3-none-any.whl (15 kB)\n",
            "Requirement already satisfied: typing-extensions~=4.0 in /usr/local/lib/python3.10/dist-packages (from gradio) (4.5.0)\n",
            "Collecting uvicorn>=0.14.0 (from gradio)\n",
            "  Downloading uvicorn-0.23.2-py3-none-any.whl (59 kB)\n",
            "\u001b[2K     \u001b[90m━━━━━━━━━━━━━━━━━━━━━━━━━━━━━━━━━━━━━━━━\u001b[0m \u001b[32m59.5/59.5 kB\u001b[0m \u001b[31m5.6 MB/s\u001b[0m eta \u001b[36m0:00:00\u001b[0m\n",
            "\u001b[?25hCollecting websockets<12.0,>=10.0 (from gradio)\n",
            "  Downloading websockets-11.0.3-cp310-cp310-manylinux_2_5_x86_64.manylinux1_x86_64.manylinux_2_17_x86_64.manylinux2014_x86_64.whl (129 kB)\n",
            "\u001b[2K     \u001b[90m━━━━━━━━━━━━━━━━━━━━━━━━━━━━━━━━━━━━━━\u001b[0m \u001b[32m129.9/129.9 kB\u001b[0m \u001b[31m12.3 MB/s\u001b[0m eta \u001b[36m0:00:00\u001b[0m\n",
            "\u001b[?25hRequirement already satisfied: fsspec in /usr/local/lib/python3.10/dist-packages (from gradio-client==0.5.1->gradio) (2023.6.0)\n",
            "Requirement already satisfied: entrypoints in /usr/local/lib/python3.10/dist-packages (from altair<6.0,>=4.2.0->gradio) (0.4)\n",
            "Requirement already satisfied: jsonschema>=3.0 in /usr/local/lib/python3.10/dist-packages (from altair<6.0,>=4.2.0->gradio) (4.19.0)\n",
            "Requirement already satisfied: toolz in /usr/local/lib/python3.10/dist-packages (from altair<6.0,>=4.2.0->gradio) (0.12.0)\n",
            "Requirement already satisfied: filelock in /usr/local/lib/python3.10/dist-packages (from huggingface-hub>=0.14.0->gradio) (3.12.2)\n",
            "Requirement already satisfied: tqdm>=4.42.1 in /usr/local/lib/python3.10/dist-packages (from huggingface-hub>=0.14.0->gradio) (4.66.1)\n",
            "Requirement already satisfied: contourpy>=1.0.1 in /usr/local/lib/python3.10/dist-packages (from matplotlib~=3.0->gradio) (1.1.0)\n",
            "Requirement already satisfied: cycler>=0.10 in /usr/local/lib/python3.10/dist-packages (from matplotlib~=3.0->gradio) (0.11.0)\n",
            "Requirement already satisfied: fonttools>=4.22.0 in /usr/local/lib/python3.10/dist-packages (from matplotlib~=3.0->gradio) (4.42.1)\n",
            "Requirement already satisfied: kiwisolver>=1.0.1 in /usr/local/lib/python3.10/dist-packages (from matplotlib~=3.0->gradio) (1.4.5)\n",
            "Requirement already satisfied: pyparsing>=2.3.1 in /usr/local/lib/python3.10/dist-packages (from matplotlib~=3.0->gradio) (3.1.1)\n",
            "Requirement already satisfied: python-dateutil>=2.7 in /usr/local/lib/python3.10/dist-packages (from matplotlib~=3.0->gradio) (2.8.2)\n",
            "Requirement already satisfied: pytz>=2020.1 in /usr/local/lib/python3.10/dist-packages (from pandas<3.0,>=1.0->gradio) (2023.3.post1)\n",
            "Requirement already satisfied: charset-normalizer<4,>=2 in /usr/local/lib/python3.10/dist-packages (from requests~=2.0->gradio) (3.2.0)\n",
            "Requirement already satisfied: idna<4,>=2.5 in /usr/local/lib/python3.10/dist-packages (from requests~=2.0->gradio) (3.4)\n",
            "Requirement already satisfied: urllib3<3,>=1.21.1 in /usr/local/lib/python3.10/dist-packages (from requests~=2.0->gradio) (2.0.4)\n",
            "Requirement already satisfied: certifi>=2017.4.17 in /usr/local/lib/python3.10/dist-packages (from requests~=2.0->gradio) (2023.7.22)\n",
            "Requirement already satisfied: click>=7.0 in /usr/local/lib/python3.10/dist-packages (from uvicorn>=0.14.0->gradio) (8.1.7)\n",
            "Collecting h11>=0.8 (from uvicorn>=0.14.0->gradio)\n",
            "  Downloading h11-0.14.0-py3-none-any.whl (58 kB)\n",
            "\u001b[2K     \u001b[90m━━━━━━━━━━━━━━━━━━━━━━━━━━━━━━━━━━━━━━━━\u001b[0m \u001b[32m58.3/58.3 kB\u001b[0m \u001b[31m5.8 MB/s\u001b[0m eta \u001b[36m0:00:00\u001b[0m\n",
            "\u001b[?25hRequirement already satisfied: anyio<4.0.0,>=3.7.1 in /usr/local/lib/python3.10/dist-packages (from fastapi->gradio) (3.7.1)\n",
            "Collecting starlette<0.28.0,>=0.27.0 (from fastapi->gradio)\n",
            "  Downloading starlette-0.27.0-py3-none-any.whl (66 kB)\n",
            "\u001b[2K     \u001b[90m━━━━━━━━━━━━━━━━━━━━━━━━━━━━━━━━━━━━━━━━\u001b[0m \u001b[32m67.0/67.0 kB\u001b[0m \u001b[31m6.3 MB/s\u001b[0m eta \u001b[36m0:00:00\u001b[0m\n",
            "\u001b[?25hCollecting httpcore<0.19.0,>=0.18.0 (from httpx->gradio)\n",
            "  Downloading httpcore-0.18.0-py3-none-any.whl (76 kB)\n",
            "\u001b[2K     \u001b[90m━━━━━━━━━━━━━━━━━━━━━━━━━━━━━━━━━━━━━━━━\u001b[0m \u001b[32m76.0/76.0 kB\u001b[0m \u001b[31m6.8 MB/s\u001b[0m eta \u001b[36m0:00:00\u001b[0m\n",
            "\u001b[?25hRequirement already satisfied: sniffio in /usr/local/lib/python3.10/dist-packages (from httpx->gradio) (1.3.0)\n",
            "Requirement already satisfied: exceptiongroup in /usr/local/lib/python3.10/dist-packages (from anyio<4.0.0,>=3.7.1->fastapi->gradio) (1.1.3)\n",
            "Requirement already satisfied: attrs>=22.2.0 in /usr/local/lib/python3.10/dist-packages (from jsonschema>=3.0->altair<6.0,>=4.2.0->gradio) (23.1.0)\n",
            "Requirement already satisfied: jsonschema-specifications>=2023.03.6 in /usr/local/lib/python3.10/dist-packages (from jsonschema>=3.0->altair<6.0,>=4.2.0->gradio) (2023.7.1)\n",
            "Requirement already satisfied: referencing>=0.28.4 in /usr/local/lib/python3.10/dist-packages (from jsonschema>=3.0->altair<6.0,>=4.2.0->gradio) (0.30.2)\n",
            "Requirement already satisfied: rpds-py>=0.7.1 in /usr/local/lib/python3.10/dist-packages (from jsonschema>=3.0->altair<6.0,>=4.2.0->gradio) (0.10.2)\n",
            "Requirement already satisfied: six>=1.5 in /usr/local/lib/python3.10/dist-packages (from python-dateutil>=2.7->matplotlib~=3.0->gradio) (1.16.0)\n",
            "Building wheels for collected packages: ffmpy\n",
            "  Building wheel for ffmpy (setup.py) ... \u001b[?25l\u001b[?25hdone\n",
            "  Created wheel for ffmpy: filename=ffmpy-0.3.1-py3-none-any.whl size=5579 sha256=af9d04c14a6781375bce08c05c5521a1c4d326cf50f5f76c404db5bc46a95de1\n",
            "  Stored in directory: /root/.cache/pip/wheels/01/a6/d1/1c0828c304a4283b2c1639a09ad86f83d7c487ef34c6b4a1bf\n",
            "Successfully built ffmpy\n",
            "Installing collected packages: pydub, ffmpy, websockets, semantic-version, python-multipart, orjson, h11, aiofiles, uvicorn, starlette, huggingface-hub, httpcore, httpx, fastapi, gradio-client, gradio\n",
            "Successfully installed aiofiles-23.2.1 fastapi-0.103.1 ffmpy-0.3.1 gradio-3.44.4 gradio-client-0.5.1 h11-0.14.0 httpcore-0.18.0 httpx-0.25.0 huggingface-hub-0.17.2 orjson-3.9.7 pydub-0.25.1 python-multipart-0.0.6 semantic-version-2.10.0 starlette-0.27.0 uvicorn-0.23.2 websockets-11.0.3\n"
          ]
        }
      ],
      "source": [
        "pip install gradio"
      ]
    },
    {
      "cell_type": "code",
      "execution_count": null,
      "metadata": {
        "id": "PIg0m9dll0vv"
      },
      "outputs": [],
      "source": [
        "# Save the best model to a file\n",
        "model.save('/content/drive/My Drive/DL/best_model.h5')"
      ]
    },
    {
      "cell_type": "code",
      "execution_count": null,
      "metadata": {
        "id": "IA1Fmu4Sl1Oo"
      },
      "outputs": [],
      "source": [
        "import gradio as gr"
      ]
    },
    {
      "cell_type": "code",
      "execution_count": null,
      "metadata": {
        "colab": {
          "base_uri": "https://localhost:8080/",
          "height": 1000
        },
        "id": "dEYbUw1MrYNh",
        "outputId": "93939a99-d1ed-4cfb-f771-f37b4d139c61"
      },
      "outputs": [
        {
          "metadata": {
            "tags": null
          },
          "name": "stderr",
          "output_type": "stream",
          "text": [
            "<ipython-input-21-70d8e7926d97>:1: GradioDeprecationWarning: Usage of gradio.inputs is deprecated, and will not be supported in the future, please import your component from gradio.components\n",
            "  image = gr.inputs.Image(shape=(180,180))\n",
            "<ipython-input-21-70d8e7926d97>:1: GradioDeprecationWarning: `optional` parameter is deprecated, and it has no effect\n",
            "  image = gr.inputs.Image(shape=(180,180))\n",
            "<ipython-input-21-70d8e7926d97>:3: GradioDeprecationWarning: Usage of gradio.outputs is deprecated, and will not be supported in the future, please import your components from gradio.components\n",
            "  label = gr.outputs.Label(num_top_classes=5)\n",
            "<ipython-input-21-70d8e7926d97>:3: GradioUnusedKwargWarning: You have unused kwarg parameters in Label, please remove them: {'type': 'auto'}\n",
            "  label = gr.outputs.Label(num_top_classes=5)\n"
          ]
        },
        {
          "metadata": {
            "tags": null
          },
          "name": "stdout",
          "output_type": "stream",
          "text": [
            "Colab notebook detected. This cell will run indefinitely so that you can see errors and logs. To turn off, set debug=False in launch().\n",
            "Running on public URL: https://dfbe6757bb127d39f3.gradio.live\n",
            "\n",
            "This share link expires in 72 hours. For free permanent hosting and GPU upgrades, run `gradio deploy` from Terminal to deploy to Spaces (https://huggingface.co/spaces)\n"
          ]
        },
        {
          "data": {
            "text/html": [
              "<div><iframe src=\"https://dfbe6757bb127d39f3.gradio.live\" width=\"100%\" height=\"500\" allow=\"autoplay; camera; microphone; clipboard-read; clipboard-write;\" frameborder=\"0\" allowfullscreen></iframe></div>"
            ],
            "text/plain": [
              "<IPython.core.display.HTML object>"
            ]
          },
          "metadata": {},
          "output_type": "display_data"
        },
        {
          "output_type": "stream",
          "name": "stdout",
          "text": [
            "1/1 [==============================] - 0s 170ms/step\n",
            "1/1 [==============================] - 0s 55ms/step\n",
            "[4.5945468e-05 9.9995410e-01]\n",
            "1/1 [==============================] - 0s 33ms/step\n",
            "1/1 [==============================] - 0s 32ms/step\n",
            "[1.1393405e-04 9.9988604e-01]\n",
            "1/1 [==============================] - 0s 34ms/step\n",
            "1/1 [==============================] - 0s 33ms/step\n",
            "[0.7497571  0.25024292]\n",
            "1/1 [==============================] - 0s 61ms/step\n",
            "1/1 [==============================] - 0s 87ms/step\n",
            "[1.7540857e-04 9.9982458e-01]\n",
            "1/1 [==============================] - 0s 37ms/step\n",
            "1/1 [==============================] - 0s 31ms/step\n",
            "[5.4652337e-04 9.9945349e-01]\n",
            "1/1 [==============================] - 0s 36ms/step\n",
            "1/1 [==============================] - 0s 34ms/step\n",
            "[9.6932804e-04 9.9903071e-01]\n",
            "1/1 [==============================] - 0s 35ms/step\n",
            "1/1 [==============================] - 0s 36ms/step\n",
            "[0.02856693 0.97143304]\n",
            "1/1 [==============================] - 0s 53ms/step\n",
            "1/1 [==============================] - 0s 54ms/step\n",
            "[6.634568e-05 9.999336e-01]\n"
          ]
        }
      ],
      "source": [
        "image = gr.inputs.Image(shape=(180,180))\n",
        "\n",
        "label = gr.outputs.Label(num_top_classes=5)\n",
        "\n",
        "gr.Interface(fn=predict_input_image, inputs=image, outputs=label,interpretation='default').launch(debug='True',share=True)"
      ]
    },
    {
      "cell_type": "code",
      "execution_count": null,
      "metadata": {
        "id": "ppddKUworcdR"
      },
      "outputs": [],
      "source": []
    }
  ],
  "metadata": {
    "colab": {
      "provenance": [],
      "authorship_tag": "ABX9TyMBsTpoWstc+ovRtiidvu9h",
      "include_colab_link": true
    },
    "kernelspec": {
      "display_name": "Python 3",
      "name": "python3"
    },
    "language_info": {
      "name": "python"
    }
  },
  "nbformat": 4,
  "nbformat_minor": 0
}